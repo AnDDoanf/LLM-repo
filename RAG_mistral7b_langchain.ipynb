{
  "nbformat": 4,
  "nbformat_minor": 0,
  "metadata": {
    "colab": {
      "provenance": [],
      "machine_shape": "hm",
      "gpuType": "T4",
      "authorship_tag": "ABX9TyPG5MQYmz08UMNgi3jCDFno",
      "include_colab_link": true
    },
    "kernelspec": {
      "name": "python3",
      "display_name": "Python 3"
    },
    "language_info": {
      "name": "python"
    },
    "accelerator": "GPU"
  },
  "cells": [
    {
      "cell_type": "markdown",
      "metadata": {
        "id": "view-in-github",
        "colab_type": "text"
      },
      "source": [
        "<a href=\"https://colab.research.google.com/github/AnDDoanf/LLM-repo/blob/master/RAG_mistral7b_langchain.ipynb\" target=\"_parent\"><img src=\"https://colab.research.google.com/assets/colab-badge.svg\" alt=\"Open In Colab\"/></a>"
      ]
    },
    {
      "cell_type": "code",
      "source": [
        "%%capture\n",
        "!pip install transformers bitsandbytes accelerate langchain langchain_community playwright html2text sentence-transformers faiss-gpu\n",
        "!playwright install"
      ],
      "metadata": {
        "id": "NvrqASiz383_"
      },
      "execution_count": 28,
      "outputs": []
    },
    {
      "cell_type": "code",
      "execution_count": 2,
      "metadata": {
        "id": "IO65bPTZ34S2"
      },
      "outputs": [],
      "source": [
        "%%capture\n",
        "from transformers import AutoModelForCausalLM, AutoTokenizer\n",
        "import transformers\n",
        "from transformers import BitsAndBytesConfig\n",
        "from torch import cuda, bfloat16\n",
        "\n",
        "model_name='mistralai/Mistral-7B-Instruct-v0.1'\n",
        "\n",
        "model_config = transformers.AutoConfig.from_pretrained(\n",
        "    model_name,\n",
        ")\n",
        "\n",
        "tokenizer = AutoTokenizer.from_pretrained(model_name, trust_remote_code=True)\n",
        "tokenizer.pad_token = tokenizer.eos_token\n",
        "tokenizer.padding_side = \"right\"\n",
        "\n",
        "bnb_config = BitsAndBytesConfig(\n",
        "    load_in_4bit=True,\n",
        "    bnb_4bit_use_double_quant=True,\n",
        "    bnb_4bit_quant_type=\"nf4\",\n",
        "    bnb_4bit_compute_dtype=bfloat16,\n",
        ")\n",
        "\n",
        "model = AutoModelForCausalLM.from_pretrained(\n",
        "    model_name,\n",
        "    quantization_config=bnb_config,\n",
        ")"
      ]
    },
    {
      "cell_type": "code",
      "source": [
        "inputs_not_chat = tokenizer.encode_plus(\"[INST] Tell me about fantasy football? [/INST]\", return_tensors=\"pt\")['input_ids'].to('cuda')\n",
        "\n",
        "generated_ids = model.generate(inputs_not_chat,\n",
        "                               max_new_tokens=1000,\n",
        "                               do_sample=True)\n",
        "decoded = tokenizer.batch_decode(generated_ids)"
      ],
      "metadata": {
        "id": "NTktrY4OCHOt"
      },
      "execution_count": 3,
      "outputs": []
    },
    {
      "cell_type": "code",
      "source": [
        "decoded"
      ],
      "metadata": {
        "colab": {
          "base_uri": "https://localhost:8080/"
        },
        "id": "LUlNWX72D-wz",
        "outputId": "19b4a7f7-165b-49be-99aa-11c3f0bced93"
      },
      "execution_count": 4,
      "outputs": [
        {
          "output_type": "execute_result",
          "data": {
            "text/plain": [
              "['<s> [INST] Tell me about fantasy football? [/INST] Fantasy football is a popular game in which players simulate the management of a team of real-life football players. The game usually involves creating a virtual roster of players from different real-world teams and using various rules and strategies to compete against other players online in simulated games. Participants also typically need to keep track of things like injuries, player statistics, and real-time match updates to make informed decisions about their lineup. There are various leagues and rules that can be used to make the game more challenging or dynamic, and participants can often engage in friendly banter and competition with other fantasy football enthusiasts. Overall, fantasy football is a fun and engaging way for people to get involved in the world of football and experience the game in a new way.</s>']"
            ]
          },
          "metadata": {},
          "execution_count": 4
        }
      ]
    },
    {
      "cell_type": "code",
      "source": [
        "from langchain.text_splitter import CharacterTextSplitter\n",
        "from langchain.document_loaders import AsyncChromiumLoader\n",
        "from langchain.document_transformers import Html2TextTransformer\n",
        "from langchain.vectorstores import FAISS\n",
        "import nest_asyncio\n",
        "from langchain.embeddings import HuggingFaceEmbeddings\n",
        "nest_asyncio.apply()\n",
        "\n",
        "articles = [\"https://printer.gotquestions.net/GeneratePF?articleId=\" + str(index) for index in range(200)]\n",
        "\n",
        "# Scrapes the blogs above\n",
        "loader = AsyncChromiumLoader(articles)\n",
        "docs = loader.load()\n",
        "\n",
        "# Converts HTML to plain text\n",
        "html2text = Html2TextTransformer()\n",
        "docs_transformed = html2text.transform_documents(docs)\n",
        "\n",
        "# Chunk text\n",
        "text_splitter = CharacterTextSplitter(chunk_size=100,\n",
        "                                      chunk_overlap=0)\n",
        "chunked_documents = text_splitter.split_documents(docs_transformed)\n",
        "\n",
        "# Load chunked documents into the FAISS index\n",
        "db = FAISS.from_documents(chunked_documents,\n",
        "                          HuggingFaceEmbeddings(model_name='sentence-transformers/all-mpnet-base-v2'))\n",
        "\n",
        "# Connect query to FAISS index using a retriever\n",
        "retriever = db.as_retriever(\n",
        "    search_type=\"similarity\",\n",
        "    search_kwargs={'k': 4}\n",
        ")"
      ],
      "metadata": {
        "id": "NCjkBG6OEiuv"
      },
      "execution_count": null,
      "outputs": []
    },
    {
      "cell_type": "code",
      "source": [
        "from langchain.llms import HuggingFacePipeline\n",
        "from langchain.prompts import PromptTemplate\n",
        "from langchain.embeddings.huggingface import HuggingFaceEmbeddings\n",
        "from langchain.chains import LLMChain\n",
        "from langchain_core.runnables import RunnablePassthrough\n",
        "text_generation_pipeline = transformers.pipeline(\n",
        "    model=model,\n",
        "    tokenizer=tokenizer,\n",
        "    task=\"text-generation\",\n",
        "    temperature=0.2,\n",
        "    repetition_penalty=1.1,\n",
        "    return_full_text=True,\n",
        "    max_new_tokens=300,\n",
        ")\n",
        "\n",
        "prompt_template = \"\"\"\n",
        "### [INST]\n",
        "Instruction: Answer the question based on the provided context.\n",
        "If you do not know, say you don't know.\n",
        "Do cite your sources.\n",
        "[INST]\n",
        "Here is context to help:\n",
        "\n",
        "{context}\n",
        "\n",
        "### QUESTION:\n",
        "{question}\n",
        "\n",
        "[/INST]\n",
        " \"\"\"\n",
        "\n",
        "mistral_llm = HuggingFacePipeline(pipeline=text_generation_pipeline)\n",
        "\n",
        "# Create prompt from prompt template\n",
        "prompt = PromptTemplate(\n",
        "    input_variables=[\"context\", \"question\"],\n",
        "    template=prompt_template,\n",
        ")\n",
        "\n",
        "# Create llm chain\n",
        "llm_chain = LLMChain(llm=mistral_llm, prompt=prompt)\n",
        "\n",
        "retriever = db.as_retriever()\n",
        "\n",
        "rag_chain = (\n",
        " {\"context\": retriever, \"question\": RunnablePassthrough()}\n",
        "    | llm_chain\n",
        ")"
      ],
      "metadata": {
        "id": "SquRhx7mFiwz"
      },
      "execution_count": 46,
      "outputs": []
    },
    {
      "cell_type": "code",
      "source": [
        "rag_chain.invoke(\"what is Luciferianism?\")"
      ],
      "metadata": {
        "colab": {
          "base_uri": "https://localhost:8080/"
        },
        "id": "-QWgaUD3Fm8x",
        "outputId": "e08e331c-96d0-46d6-8e13-ecccc0fe68db"
      },
      "execution_count": 48,
      "outputs": [
        {
          "output_type": "stream",
          "name": "stderr",
          "text": [
            "/usr/local/lib/python3.10/dist-packages/transformers/generation/configuration_utils.py:515: UserWarning: `do_sample` is set to `False`. However, `temperature` is set to `0.2` -- this flag is only used in sample-based generation modes. You should set `do_sample=True` or unset `temperature`.\n",
            "  warnings.warn(\n"
          ]
        },
        {
          "output_type": "execute_result",
          "data": {
            "text/plain": [
              "{'context': [Document(page_content='**Question: \"What is Luciferianism?\"**', metadata={'source': 'https://printer.gotquestions.net/GeneratePF?articleId=100'}),\n",
              "  Document(page_content='**Answer:** One type of Luciferianism is the worship or reverence of Lucifer\\nas a deity. Such religion is related to Satanism—though it attempts to\\nemphasize the more “positive” aspects of Lucifer. Another type of\\nLuciferianism is nontheistic and views Lucifer as nothing more than a symbol\\nof mankind’s quest for wisdom and enlightenment.  \\n  \\nThe name “Lucifer” comes from a translation of Isaiah 14:12. It literally\\nmeans “bright star, shining star, or morning star.” Most scholars see this as\\na description of Satan before his rebellion against God. Passages like Isaiah\\n14 and Ezekiel 28 teach that Satan was created the highest, most beautiful of\\nthe angels, but that his pride and desire for God’s own throne resulted in his\\nbeing cast out of heaven and being given the name “Satan” (meaning\\n“adversary”).  \\n  \\nThe first type of Luciferianism is really nothing more than the worship of\\nSatan as the god of this world (2 Corinthians 4:4). Satan is venerated as a\\nbeing of knowledge and light (2 Corinthians 11:14–15). The focus is on the\\n“good” that was in Lucifer prior to his rebellion and not the evil and\\ndarkness that is associated with the name “Satan.” Though Lucifer and Satan\\nare one and the same, Luciferianism portrays him as a god of light, a god of\\nknowledge, and a god of magic. Luciferians seek to become gods themselves, a\\nposition attained by living a life of goodness, seeking after knowledge,\\npracticing magic, and opening one’s mind to the cosmic mind of Lucifer. In\\nmany ways, Luciferianism resembles Gnosticism.  \\n  \\nThe other type of Luciferianism, which rejects the idea that Lucifer is a\\npersonal being, is still seeking enlightenment apart from the truth of God.\\nThese Luciferians may see themselves as lovers of light and goodness, but they\\nare embracing falsehood. Satan does not care if people believe in him or not;\\nhe can still lead them astray.  \\n  \\nGroups that adhere to Luciferian teachings are few and far between, though\\nelements of Luciferianism are found in Masonic teachings, Wicca, and New Age\\nphilosophy. Because there is no agreed-upon dogma, Luciferian beliefs are\\nextremely varied from group to group. The wide variety of beliefs among\\nLuciferian adherents has contributed to the generally held belief that\\nLuciferianism is simply a subset of Satanism, a mini-denomination of sorts.\\nAlthough some adherents would be quick to denounce such a claim, Luciferianism\\nis otherwise difficult to categorize.  \\n  \\nOne thing is certain: Lucifer/Satan is not a being to be worshiped, nor is he\\nanyone to be treated lightly. He is a very powerful being and the enemy of our\\nsouls. The Bible describes him as “the devil [who] prowls around like a\\nroaring lion looking for someone to devour” (1 Peter 5:8). Those who get\\ninvolved with him will eventually regret it, as he will devour their souls as\\na reward for their worship. “Resist him,” Peter exhorts in verse 9, “standing\\nfirm in the faith.” The faith he means is faith in Jesus Christ as Lord and\\nSavior, because He alone can save us from hell, the ultimate destination of\\nall who dabble in Luciferianism.', metadata={'source': 'https://printer.gotquestions.net/GeneratePF?articleId=100'}),\n",
              "  Document(page_content='**Answer:** In common usage, _Lucifer_ is another name for Satan. Famously,\\nJohn Milton used this name for Satan in _Paradise Lost_. There is no verse in\\nthe Bible that says, “Lucifer is Satan.” In fact, there is some dispute as to\\nwhether _Lucifer_ is even a proper name in the Bible.  \\n  \\nA character referred to as “Lucifer” appears in Isaiah 14. The setting is a\\n“taunt against the king of Babylon” (Isaiah 14:4). The wicked king, who\\noppressed other nations, is brought to ruin. God has broken the king of\\nBabylon’s scepter (Isaiah 14:5) and laid him low (verse 8). The defeated king\\nof Babylon is pictured as entering the place of the dead, where other departed\\nkings await him with glee:  \\n“’You also have become weak, as we are;  \\nyou have become like us.’  \\nAll your pomp has been brought down to the grave,  \\nalong with the noise of your harps;  \\nmaggots are spread out beneath you  \\nand worms cover you” (Isaiah 14:10–11).  \\n  \\nThe prophecy against the king of Babylon continues with this interesting\\npassage:  \\n“How you are fallen from heaven,  \\nO Lucifer, son of the morning!  \\nHow you are cut down to the ground,  \\nYou who weakened the nations!  \\nFor you have said in your heart:  \\n‘I will ascend into heaven,  \\nI will exalt my throne above the stars of God;  \\nI will also sit on the mount of the congregation  \\nOn the farthest sides of the north;  \\nI will ascend above the heights of the clouds,  \\nI will be like the Most High.’  \\nYet you shall be brought down to Sheol,  \\nTo the lowest depths of the Pit” (Isaiah 14:12–15, NKJV).  \\n  \\nThe King James Version and the New King James Version have “Lucifer” in Isaiah\\n14:12, but other translations have “morning star” (NIV), “Day Star” (ESV), or\\n“shining one” (NET). Is the term meant as a proper name, or simply as a\\nmetaphor for the king’s greatness? Scholars are divided on the issue.  \\n  \\nClearly, the primary interpretation of Isaiah 14 is that of a prophecy against\\nthe human king of Babylon. However, the poetic descriptions of his grandeur,\\nhis sin, and his fate are so extravagant as to cause many scholars to consider\\na secondary interpretation, viz., a reference to Satan.  \\n  \\nWe note that the following things are true about the king in Isaiah 14:  \\n• he falls from heaven (verse 12)  \\n• he is cast down to the earth (verse 12)  \\n• he had destroyed nations (verse 12)  \\n• he sought to ascend to God’s throne (verse 13)  \\n• he desired to be like the Most High (verse 14)  \\n• he is relegated to the lowest part of the Pit (verse 15)  \\n  \\nIn a clear reference to Satan, Jesus uses some similar wording in Luke 10:18:\\n“I saw Satan fall like lightning from heaven.” The link between Satan and\\nLucifer seems to be supported by Satan’s fall from heaven, mentioned by Jesus;\\nSatan’s temptation of Eve that suggested she could be like God (Genesis 3:5);\\nSatan’s work as a destroyer (Job 1:12–19; 2:7); and Satan’s masquerading as an\\n“angel of light” (2 Corinthians 11:14).  \\n  \\nWe believe the best way to look at Isaiah 14 is as a dual condemnation: the\\nhuman king of Babylon and the spiritual force behind him are both facing God’s\\njudgment for their pride and wickedness. The human king had occupied a\\nglorious throne in this world—he was a “star” among rulers—and the spiritual\\nentity had occupied a glorious position in the heavenlies—a true “Lucifer,” or\\n“star of the morning.”', metadata={'source': 'https://printer.gotquestions.net/GeneratePF?articleId=99'}),\n",
              "  Document(page_content='**Question: \"What is Messianic Judaism?\"**', metadata={'source': 'https://printer.gotquestions.net/GeneratePF?articleId=146'})],\n",
              " 'question': 'what is Luciferianism?',\n",
              " 'text': '\\n### [INST] \\nInstruction: Answer the question based on the provided context. \\nIf you do not know, say you don\\'t know.\\nDo cite your sources.\\n[INST]\\nHere is context to help:\\n\\n[Document(page_content=\\'**Question: \"What is Luciferianism?\"**\\', metadata={\\'source\\': \\'https://printer.gotquestions.net/GeneratePF?articleId=100\\'}), Document(page_content=\\'**Answer:** One type of Luciferianism is the worship or reverence of Lucifer\\\\nas a deity. Such religion is related to Satanism—though it attempts to\\\\nemphasize the more “positive” aspects of Lucifer. Another type of\\\\nLuciferianism is nontheistic and views Lucifer as nothing more than a symbol\\\\nof mankind’s quest for wisdom and enlightenment.  \\\\n  \\\\nThe name “Lucifer” comes from a translation of Isaiah 14:12. It literally\\\\nmeans “bright star, shining star, or morning star.” Most scholars see this as\\\\na description of Satan before his rebellion against God. Passages like Isaiah\\\\n14 and Ezekiel 28 teach that Satan was created the highest, most beautiful of\\\\nthe angels, but that his pride and desire for God’s own throne resulted in his\\\\nbeing cast out of heaven and being given the name “Satan” (meaning\\\\n“adversary”).  \\\\n  \\\\nThe first type of Luciferianism is really nothing more than the worship of\\\\nSatan as the god of this world (2 Corinthians 4:4). Satan is venerated as a\\\\nbeing of knowledge and light (2 Corinthians 11:14–15). The focus is on the\\\\n“good” that was in Lucifer prior to his rebellion and not the evil and\\\\ndarkness that is associated with the name “Satan.” Though Lucifer and Satan\\\\nare one and the same, Luciferianism portrays him as a god of light, a god of\\\\nknowledge, and a god of magic. Luciferians seek to become gods themselves, a\\\\nposition attained by living a life of goodness, seeking after knowledge,\\\\npracticing magic, and opening one’s mind to the cosmic mind of Lucifer. In\\\\nmany ways, Luciferianism resembles Gnosticism.  \\\\n  \\\\nThe other type of Luciferianism, which rejects the idea that Lucifer is a\\\\npersonal being, is still seeking enlightenment apart from the truth of God.\\\\nThese Luciferians may see themselves as lovers of light and goodness, but they\\\\nare embracing falsehood. Satan does not care if people believe in him or not;\\\\nhe can still lead them astray.  \\\\n  \\\\nGroups that adhere to Luciferian teachings are few and far between, though\\\\nelements of Luciferianism are found in Masonic teachings, Wicca, and New Age\\\\nphilosophy. Because there is no agreed-upon dogma, Luciferian beliefs are\\\\nextremely varied from group to group. The wide variety of beliefs among\\\\nLuciferian adherents has contributed to the generally held belief that\\\\nLuciferianism is simply a subset of Satanism, a mini-denomination of sorts.\\\\nAlthough some adherents would be quick to denounce such a claim, Luciferianism\\\\nis otherwise difficult to categorize.  \\\\n  \\\\nOne thing is certain: Lucifer/Satan is not a being to be worshiped, nor is he\\\\nanyone to be treated lightly. He is a very powerful being and the enemy of our\\\\nsouls. The Bible describes him as “the devil [who] prowls around like a\\\\nroaring lion looking for someone to devour” (1 Peter 5:8). Those who get\\\\ninvolved with him will eventually regret it, as he will devour their souls as\\\\na reward for their worship. “Resist him,” Peter exhorts in verse 9, “standing\\\\nfirm in the faith.” The faith he means is faith in Jesus Christ as Lord and\\\\nSavior, because He alone can save us from hell, the ultimate destination of\\\\nall who dabble in Luciferianism.\\', metadata={\\'source\\': \\'https://printer.gotquestions.net/GeneratePF?articleId=100\\'}), Document(page_content=\\'**Answer:** In common usage, _Lucifer_ is another name for Satan. Famously,\\\\nJohn Milton used this name for Satan in _Paradise Lost_. There is no verse in\\\\nthe Bible that says, “Lucifer is Satan.” In fact, there is some dispute as to\\\\nwhether _Lucifer_ is even a proper name in the Bible.  \\\\n  \\\\nA character referred to as “Lucifer” appears in Isaiah 14. The setting is a\\\\n“taunt against the king of Babylon” (Isaiah 14:4). The wicked king, who\\\\noppressed other nations, is brought to ruin. God has broken the king of\\\\nBabylon’s scepter (Isaiah 14:5) and laid him low (verse 8). The defeated king\\\\nof Babylon is pictured as entering the place of the dead, where other departed\\\\nkings await him with glee:  \\\\n“’You also have become weak, as we are;  \\\\nyou have become like us.’  \\\\nAll your pomp has been brought down to the grave,  \\\\nalong with the noise of your harps;  \\\\nmaggots are spread out beneath you  \\\\nand worms cover you” (Isaiah 14:10–11).  \\\\n  \\\\nThe prophecy against the king of Babylon continues with this interesting\\\\npassage:  \\\\n“How you are fallen from heaven,  \\\\nO Lucifer, son of the morning!  \\\\nHow you are cut down to the ground,  \\\\nYou who weakened the nations!  \\\\nFor you have said in your heart:  \\\\n‘I will ascend into heaven,  \\\\nI will exalt my throne above the stars of God;  \\\\nI will also sit on the mount of the congregation  \\\\nOn the farthest sides of the north;  \\\\nI will ascend above the heights of the clouds,  \\\\nI will be like the Most High.’  \\\\nYet you shall be brought down to Sheol,  \\\\nTo the lowest depths of the Pit” (Isaiah 14:12–15, NKJV).  \\\\n  \\\\nThe King James Version and the New King James Version have “Lucifer” in Isaiah\\\\n14:12, but other translations have “morning star” (NIV), “Day Star” (ESV), or\\\\n“shining one” (NET). Is the term meant as a proper name, or simply as a\\\\nmetaphor for the king’s greatness? Scholars are divided on the issue.  \\\\n  \\\\nClearly, the primary interpretation of Isaiah 14 is that of a prophecy against\\\\nthe human king of Babylon. However, the poetic descriptions of his grandeur,\\\\nhis sin, and his fate are so extravagant as to cause many scholars to consider\\\\na secondary interpretation, viz., a reference to Satan.  \\\\n  \\\\nWe note that the following things are true about the king in Isaiah 14:  \\\\n• he falls from heaven (verse 12)  \\\\n• he is cast down to the earth (verse 12)  \\\\n• he had destroyed nations (verse 12)  \\\\n• he sought to ascend to God’s throne (verse 13)  \\\\n• he desired to be like the Most High (verse 14)  \\\\n• he is relegated to the lowest part of the Pit (verse 15)  \\\\n  \\\\nIn a clear reference to Satan, Jesus uses some similar wording in Luke 10:18:\\\\n“I saw Satan fall like lightning from heaven.” The link between Satan and\\\\nLucifer seems to be supported by Satan’s fall from heaven, mentioned by Jesus;\\\\nSatan’s temptation of Eve that suggested she could be like God (Genesis 3:5);\\\\nSatan’s work as a destroyer (Job 1:12–19; 2:7); and Satan’s masquerading as an\\\\n“angel of light” (2 Corinthians 11:14).  \\\\n  \\\\nWe believe the best way to look at Isaiah 14 is as a dual condemnation: the\\\\nhuman king of Babylon and the spiritual force behind him are both facing God’s\\\\njudgment for their pride and wickedness. The human king had occupied a\\\\nglorious throne in this world—he was a “star” among rulers—and the spiritual\\\\nentity had occupied a glorious position in the heavenlies—a true “Lucifer,” or\\\\n“star of the morning.”\\', metadata={\\'source\\': \\'https://printer.gotquestions.net/GeneratePF?articleId=99\\'}), Document(page_content=\\'**Question: \"What is Messianic Judaism?\"**\\', metadata={\\'source\\': \\'https://printer.gotquestions.net/GeneratePF?articleId=146\\'})]\\n\\n### QUESTION:\\nwhat is Luciferianism? \\n\\n[/INST]\\n \\nLuciferianism is a religious movement that centers around the worship of Lucifer, either as a deity or as a symbol of mankind\\'s quest for wisdom and enlightenment. There are two main types of Luciferianism: the first type emphasizes the positive aspects of Lucifer and portrays him as a god of light, knowledge, and magic. Adherents of this type seek to become gods themselves by living a life of goodness, seeking after knowledge, practicing magic, and opening their minds to the cosmic mind of Lucifer. The second type of Luciferianism rejects the idea that Lucifer is a personal being and focuses on enlightenment apart from the truth of God. Luciferian beliefs are extremely varied from group to group, and there is no agreed-upon dogma. Some groups that adhere to Luciferian teachings are found in Masonic teachings, Wicca, and New Age philosophy.'}"
            ]
          },
          "metadata": {},
          "execution_count": 48
        }
      ]
    }
  ]
}